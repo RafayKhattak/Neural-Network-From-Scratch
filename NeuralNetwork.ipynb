{
 "cells": [
  {
   "cell_type": "code",
   "execution_count": 2,
   "id": "b8a3f7c3",
   "metadata": {},
   "outputs": [],
   "source": [
    "# Importing dependencies\n",
    "import numpy as np\n",
    "import pandas as pd\n",
    "import matplotlib.pyplot as plt"
   ]
  },
  {
   "cell_type": "code",
   "execution_count": 3,
   "id": "be29d578",
   "metadata": {},
   "outputs": [],
   "source": [
    "# Read the training data from a CSV file\n",
    "data = pd.read_csv('train.csv')"
   ]
  },
  {
   "cell_type": "code",
   "execution_count": 4,
   "id": "6bb77b4d",
   "metadata": {},
   "outputs": [],
   "source": [
    "# Convert data to a NumPy array for efficient computation\n",
    "data = np.array(data)"
   ]
  },
  {
   "cell_type": "code",
   "execution_count": 5,
   "id": "fdb6c0a6",
   "metadata": {},
   "outputs": [],
   "source": [
    "# Shuffle the data randomly to ensure randomness in the dataset\n",
    "np.random.shuffle(data)"
   ]
  },
  {
   "cell_type": "code",
   "execution_count": 6,
   "id": "953c273a",
   "metadata": {},
   "outputs": [],
   "source": [
    "# Split the dataset into a development set and a training set\n",
    "data_dev = data[0:1000].T\n",
    "Y_dev = data_dev[0]\n",
    "X_dev = data_dev[1:].astype(float) / 255.0  # Normalize input data\n",
    "\n",
    "data_train = data[1000:].T\n",
    "Y_train = data_train[0]\n",
    "X_train = data_train[1:].astype(float) / 255.0  # Normalize input data\n",
    "\n",
    "_, m_train = X_train.shape"
   ]
  },
  {
   "cell_type": "code",
   "execution_count": 7,
   "id": "6b860bb9",
   "metadata": {},
   "outputs": [],
   "source": [
    "# Initialize parameters of the neural network randomly\n",
    "def init_params():\n",
    "    W1 = np.random.rand(50, 784) - 0.5\n",
    "    b1 = np.random.rand(50, 1) - 0.5\n",
    "    W2 = np.random.rand(20, 50) - 0.5\n",
    "    b2 = np.random.rand(20, 1) - 0.5\n",
    "    W3 = np.random.rand(10, 20) - 0.5\n",
    "    b3 = np.random.rand(10, 1) - 0.5\n",
    "    return W1, b1, W2, b2, W3, b3"
   ]
  },
  {
   "cell_type": "code",
   "execution_count": 8,
   "id": "ea8d3b4a",
   "metadata": {},
   "outputs": [],
   "source": [
    "# Forward propagation in the neural network\n",
    "def forward_prop(W1, b1, W2, b2, W3, b3, X):\n",
    "    Z1 = W1.dot(X) + b1\n",
    "    A1 = ReLU(Z1)\n",
    "    Z2 = W2.dot(A1) + b2\n",
    "    A2 = ReLU(Z2)\n",
    "    Z3 = W3.dot(A2) + b3\n",
    "    A3 = softmax(Z3)\n",
    "    return Z1, A1, Z2, A2, Z3, A3"
   ]
  },
  {
   "cell_type": "code",
   "execution_count": 9,
   "id": "0c4b81e5",
   "metadata": {},
   "outputs": [],
   "source": [
    "# Backward propagation in the neural network\n",
    "def backward_prop(Z1, A1, Z2, A2, Z3, A3, W1, W2, W3, X, Y):\n",
    "    one_hot_Y = one_hot(Y)\n",
    "    dZ3 = A3 - one_hot_Y\n",
    "    dW3 = 1 / m_train * dZ3.dot(A2.T)\n",
    "    db3 = 1 / m_train * np.sum(dZ3, axis=1, keepdims=True)\n",
    "    dZ2 = W3.T.dot(dZ3) * ReLU_deriv(Z2)\n",
    "    dW2 = 1 / m_train * dZ2.dot(A1.T)\n",
    "    db2 = 1 / m_train * np.sum(dZ2, axis=1, keepdims=True)\n",
    "    dZ1 = W2.T.dot(dZ2) * ReLU_deriv(Z1)\n",
    "    dW1 = 1 / m_train * dZ1.dot(X.T)\n",
    "    db1 = 1 / m_train * np.sum(dZ1, axis=1, keepdims=True)\n",
    "    return dW1, db1, dW2, db2, dW3, db3"
   ]
  },
  {
   "cell_type": "code",
   "execution_count": 10,
   "id": "f0ec0745",
   "metadata": {},
   "outputs": [],
   "source": [
    "# Train the neural network using gradient descent\n",
    "def gradient_descent(X, Y, alpha, iterations):\n",
    "    W1, b1, W2, b2, W3, b3 = init_params()\n",
    "    for i in range(iterations):\n",
    "        Z1, A1, Z2, A2, Z3, A3 = forward_prop(W1, b1, W2, b2, W3, b3, X)\n",
    "        dW1, db1, dW2, db2, dW3, db3 = backward_prop(Z1, A1, Z2, A2, Z3, A3, W1, W2, W3, X, Y)\n",
    "        W1, b1, W2, b2, W3, b3 = update_params(W1, b1, W2, b2, W3, b3, dW1, db1, dW2, db2, dW3, db3, alpha)\n",
    "        if i % 10 == 0:\n",
    "            predictions = make_predictions(X, W1, b1, W2, b2, W3, b3)\n",
    "            accuracy = get_accuracy(predictions, Y)\n",
    "            print(\"Iteration:\", i, \"Accuracy:\", accuracy)\n",
    "    return W1, b1, W2, b2, W3, b3"
   ]
  },
  {
   "cell_type": "code",
   "execution_count": 11,
   "id": "5388daf0",
   "metadata": {},
   "outputs": [],
   "source": [
    "# Make predictions for a given set of inputs\n",
    "def make_predictions(X, W1, b1, W2, b2, W3, b3):\n",
    "    _, _, _, _, _, A3 = forward_prop(W1, b1, W2, b2, W3, b3, X)\n",
    "    predictions = get_predictions(A3)\n",
    "    return predictions"
   ]
  },
  {
   "cell_type": "code",
   "execution_count": 12,
   "id": "353ab4e8",
   "metadata": {},
   "outputs": [],
   "source": [
    "# Test prediction for a specific index in the training set\n",
    "def test_prediction(index, W1, b1, W2, b2, W3, b3):\n",
    "    current_image = X_train[:, index, None]\n",
    "    prediction = make_predictions(current_image, W1, b1, W2, b2, W3, b3)\n",
    "    label = Y_train[index]\n",
    "    print(\"Prediction:\", prediction)\n",
    "    print(\"Label:\", label)\n",
    "\n",
    "    current_image = current_image.reshape((28, 28)) * 255\n",
    "    plt.gray()\n",
    "    plt.imshow(current_image, interpolation='nearest')\n",
    "    plt.show()"
   ]
  },
  {
   "cell_type": "code",
   "execution_count": 13,
   "id": "6df21c0a",
   "metadata": {},
   "outputs": [],
   "source": [
    "# ReLU activation function\n",
    "def ReLU(Z):\n",
    "    return np.maximum(Z, 0)"
   ]
  },
  {
   "cell_type": "code",
   "execution_count": 14,
   "id": "d97deb1c",
   "metadata": {},
   "outputs": [],
   "source": [
    "# Derivative of ReLU activation function\n",
    "def ReLU_deriv(Z):\n",
    "    return Z > 0"
   ]
  },
  {
   "cell_type": "code",
   "execution_count": 15,
   "id": "5f368f5c",
   "metadata": {},
   "outputs": [],
   "source": [
    "# Softmax activation function\n",
    "def softmax(Z):\n",
    "    A = np.exp(Z) / np.sum(np.exp(Z), axis=0)\n",
    "    return A"
   ]
  },
  {
   "cell_type": "code",
   "execution_count": 16,
   "id": "4a60154f",
   "metadata": {},
   "outputs": [],
   "source": [
    "# Convert labels to one-hot encoding\n",
    "def one_hot(Y):\n",
    "    one_hot_Y = np.zeros((Y.size, Y.max() + 1))\n",
    "    one_hot_Y[np.arange(Y.size), Y] = 1\n",
    "    one_hot_Y = one_hot_Y.T\n",
    "    return one_hot_Y"
   ]
  },
  {
   "cell_type": "code",
   "execution_count": 17,
   "id": "26425fef",
   "metadata": {},
   "outputs": [],
   "source": [
    "# Get the predicted labels by selecting the index with the highest probability\n",
    "def get_predictions(A3):\n",
    "    return np.argmax(A3, axis=0)"
   ]
  },
  {
   "cell_type": "code",
   "execution_count": 18,
   "id": "2c3d0ae3",
   "metadata": {},
   "outputs": [],
   "source": [
    "# Calculate the accuracy of the predictions\n",
    "def get_accuracy(predictions, Y):\n",
    "    return np.sum(predictions == Y) / Y.size"
   ]
  },
  {
   "cell_type": "code",
   "execution_count": 19,
   "id": "7e56478a",
   "metadata": {},
   "outputs": [],
   "source": [
    "# Update parameters using gradient descent\n",
    "def update_params(W1, b1, W2, b2, W3, b3, dW1, db1, dW2, db2, dW3, db3, alpha):\n",
    "    W1 -= alpha * dW1\n",
    "    b1 -= alpha * db1\n",
    "    W2 -= alpha * dW2\n",
    "    b2 -= alpha * db2\n",
    "    W3 -= alpha * dW3\n",
    "    b3 -= alpha * db3\n",
    "    return W1, b1, W2, b2, W3, b3"
   ]
  },
  {
   "cell_type": "code",
   "execution_count": 20,
   "id": "6620ed0a",
   "metadata": {},
   "outputs": [
    {
     "name": "stdout",
     "output_type": "stream",
     "text": [
      "Iteration: 0 Accuracy: 0.17712195121951219\n",
      "Iteration: 10 Accuracy: 0.38034146341463415\n",
      "Iteration: 20 Accuracy: 0.5058780487804878\n",
      "Iteration: 30 Accuracy: 0.5845121951219512\n",
      "Iteration: 40 Accuracy: 0.6377073170731707\n",
      "Iteration: 50 Accuracy: 0.6760487804878049\n",
      "Iteration: 60 Accuracy: 0.7038536585365853\n",
      "Iteration: 70 Accuracy: 0.7275853658536585\n",
      "Iteration: 80 Accuracy: 0.747609756097561\n",
      "Iteration: 90 Accuracy: 0.7625121951219512\n",
      "Iteration: 100 Accuracy: 0.7762682926829269\n",
      "Iteration: 110 Accuracy: 0.7862682926829269\n",
      "Iteration: 120 Accuracy: 0.797\n",
      "Iteration: 130 Accuracy: 0.8042682926829269\n",
      "Iteration: 140 Accuracy: 0.8119024390243903\n",
      "Iteration: 150 Accuracy: 0.8183658536585365\n",
      "Iteration: 160 Accuracy: 0.8240243902439024\n",
      "Iteration: 170 Accuracy: 0.8292926829268292\n",
      "Iteration: 180 Accuracy: 0.8343414634146341\n",
      "Iteration: 190 Accuracy: 0.8390243902439024\n",
      "Iteration: 200 Accuracy: 0.8421463414634146\n",
      "Iteration: 210 Accuracy: 0.8460243902439024\n",
      "Iteration: 220 Accuracy: 0.8492195121951219\n",
      "Iteration: 230 Accuracy: 0.8524634146341463\n",
      "Iteration: 240 Accuracy: 0.8551219512195122\n",
      "Iteration: 250 Accuracy: 0.8580487804878049\n",
      "Iteration: 260 Accuracy: 0.8605121951219512\n",
      "Iteration: 270 Accuracy: 0.8625609756097561\n",
      "Iteration: 280 Accuracy: 0.865\n",
      "Iteration: 290 Accuracy: 0.8665853658536585\n",
      "Iteration: 300 Accuracy: 0.8687560975609756\n",
      "Iteration: 310 Accuracy: 0.8704146341463415\n",
      "Iteration: 320 Accuracy: 0.8721707317073171\n",
      "Iteration: 330 Accuracy: 0.8738292682926829\n",
      "Iteration: 340 Accuracy: 0.8759024390243902\n",
      "Iteration: 350 Accuracy: 0.877609756097561\n",
      "Iteration: 360 Accuracy: 0.8789756097560976\n",
      "Iteration: 370 Accuracy: 0.8805365853658537\n",
      "Iteration: 380 Accuracy: 0.8819268292682927\n",
      "Iteration: 390 Accuracy: 0.8831219512195122\n",
      "Iteration: 400 Accuracy: 0.8843170731707317\n",
      "Iteration: 410 Accuracy: 0.8857804878048781\n",
      "Iteration: 420 Accuracy: 0.8867560975609756\n",
      "Iteration: 430 Accuracy: 0.8880731707317073\n",
      "Iteration: 440 Accuracy: 0.8890487804878049\n",
      "Iteration: 450 Accuracy: 0.8899756097560976\n",
      "Iteration: 460 Accuracy: 0.8909512195121951\n",
      "Iteration: 470 Accuracy: 0.8917560975609756\n",
      "Iteration: 480 Accuracy: 0.8926585365853659\n",
      "Iteration: 490 Accuracy: 0.8935365853658537\n"
     ]
    }
   ],
   "source": [
    "# Train the neural network with the updated code\n",
    "W1, b1, W2, b2, W3, b3 = gradient_descent(X_train, Y_train, 0.10, 500)"
   ]
  },
  {
   "cell_type": "code",
   "execution_count": 21,
   "id": "dfcfe630",
   "metadata": {},
   "outputs": [
    {
     "name": "stdout",
     "output_type": "stream",
     "text": [
      "Prediction: [4]\n",
      "Label: 4\n"
     ]
    },
    {
     "data": {
      "image/png": "[encoded data removed]",
      "text/plain": [
       "<Figure size 640x480 with 1 Axes>"
      ]
     },
     "metadata": {},
     "output_type": "display_data"
    },
    {
     "name": "stdout",
     "output_type": "stream",
     "text": [
      "Prediction: [0]\n",
      "Label: 0\n"
     ]
    },
    {
     "data": {
      "image/png": "[encoded data removed]",
      "text/plain": [
       "<Figure size 640x480 with 1 Axes>"
      ]
     },
     "metadata": {},
     "output_type": "display_data"
    },
    {
     "name": "stdout",
     "output_type": "stream",
     "text": [
      "Prediction: [5]\n",
      "Label: 5\n"
     ]
    },
    {
     "data": {
      "image/png": "[encoded data removed]",
      "text/plain": [
       "<Figure size 640x480 with 1 Axes>"
      ]
     },
     "metadata": {},
     "output_type": "display_data"
    },
    {
     "name": "stdout",
     "output_type": "stream",
     "text": [
      "Prediction: [6]\n",
      "Label: 6\n"
     ]
    },
    {
     "data": {
      "image/png": "[encoded data removed]",
      "text/plain": [
       "<Figure size 640x480 with 1 Axes>"
      ]
     },
     "metadata": {},
     "output_type": "display_data"
    }
   ],
   "source": [
    "# Test the predictions on specific examples\n",
    "test_prediction(0, W1, b1, W2, b2, W3, b3)\n",
    "test_prediction(1, W1, b1, W2, b2, W3, b3)\n",
    "test_prediction(2, W1, b1, W2, b2, W3, b3)\n",
    "test_prediction(3, W1, b1, W2, b2, W3, b3)\n"
   ]
  }
 ],
 "metadata": {
  "kernelspec": {
   "display_name": "Python 3 (ipykernel)",
   "language": "python",
   "name": "python3"
  },
  "language_info": {
   "codemirror_mode": {
    "name": "ipython",
    "version": 3
   },
   "file_extension": ".py",
   "mimetype": "text/x-python",
   "name": "python",
   "nbconvert_exporter": "python",
   "pygments_lexer": "ipython3",
   "version": "3.9.13"
  }
 },
 "nbformat": 4,
 "nbformat_minor": 5
}
